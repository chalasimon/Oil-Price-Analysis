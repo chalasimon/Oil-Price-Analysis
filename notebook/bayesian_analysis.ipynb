{
 "cells": [
  {
   "cell_type": "markdown",
   "id": "dcc8e501",
   "metadata": {},
   "source": [
    "# Task 2: Bayesian Change Point Analysis"
   ]
  },
  {
   "cell_type": "code",
   "execution_count": 1,
   "id": "2c0565b5",
   "metadata": {},
   "outputs": [],
   "source": [
    "# import necessary libraries\n",
    "import sys\n",
    "import os\n",
    "import pandas as pd\n",
    "from glob import glob"
   ]
  },
  {
   "cell_type": "code",
   "execution_count": 2,
   "id": "19f53d5a",
   "metadata": {},
   "outputs": [],
   "source": [
    "from pathlib import Path\n",
    "from importlib import reload\n",
    "# add the project root to the path\n",
    "project_root = Path(\"..\").resolve()\n",
    "if str(project_root) not in sys.path:\n",
    "    sys.path.insert(0, str(project_root))"
   ]
  },
  {
   "cell_type": "markdown",
   "id": "22661a0e",
   "metadata": {},
   "source": [
    "#### Data Loading"
   ]
  },
  {
   "cell_type": "code",
   "execution_count": 3,
   "id": "d681cf71",
   "metadata": {},
   "outputs": [
    {
     "data": {
      "text/plain": [
       "<module 'src.DataLoader' from '/home/chalasimon/Documents/10academy/week 10/challenge/Oil-Price-Analysis/src/DataLoader.py'>"
      ]
     },
     "execution_count": 3,
     "metadata": {},
     "output_type": "execute_result"
    }
   ],
   "source": [
    "# Loading the module\n",
    "from src.DataLoader import DataLoader\n",
    "import src.DataLoader\n",
    "reload(src.DataLoader)"
   ]
  },
  {
   "cell_type": "code",
   "execution_count": 4,
   "id": "38a1fe0a",
   "metadata": {},
   "outputs": [],
   "source": [
    "# data path\n",
    "oil_data_path =\"../data/BrentOilPrices.csv\"\n",
    "event_data_path = \"../data/event.csv\""
   ]
  },
  {
   "cell_type": "code",
   "execution_count": 5,
   "id": "2197da97",
   "metadata": {},
   "outputs": [
    {
     "name": "stdout",
     "output_type": "stream",
     "text": [
      "Data loaded successfully.\n",
      "Data loaded successfully.\n"
     ]
    }
   ],
   "source": [
    "# initialize the DataLoader\n",
    "oil_data_loader = DataLoader(oil_data_path)\n",
    "event_data_loader = DataLoader(event_data_path)\n",
    "# load the data\n",
    "oil_data = oil_data_loader.load_data()\n",
    "event_data = event_data_loader.load_data()"
   ]
  },
  {
   "cell_type": "code",
   "execution_count": 6,
   "id": "ed148b9c",
   "metadata": {},
   "outputs": [
    {
     "data": {
      "application/vnd.microsoft.datawrangler.viewer.v0+json": {
       "columns": [
        {
         "name": "index",
         "rawType": "int64",
         "type": "integer"
        },
        {
         "name": "Date",
         "rawType": "object",
         "type": "string"
        },
        {
         "name": "Price",
         "rawType": "float64",
         "type": "float"
        }
       ],
       "ref": "b1be283a-931b-451e-9687-50e8cff2318e",
       "rows": [
        [
         "0",
         "20-May-87",
         "18.63"
        ],
        [
         "1",
         "21-May-87",
         "18.45"
        ],
        [
         "2",
         "22-May-87",
         "18.55"
        ],
        [
         "3",
         "25-May-87",
         "18.6"
        ],
        [
         "4",
         "26-May-87",
         "18.63"
        ]
       ],
       "shape": {
        "columns": 2,
        "rows": 5
       }
      },
      "text/html": [
       "<div>\n",
       "<style scoped>\n",
       "    .dataframe tbody tr th:only-of-type {\n",
       "        vertical-align: middle;\n",
       "    }\n",
       "\n",
       "    .dataframe tbody tr th {\n",
       "        vertical-align: top;\n",
       "    }\n",
       "\n",
       "    .dataframe thead th {\n",
       "        text-align: right;\n",
       "    }\n",
       "</style>\n",
       "<table border=\"1\" class=\"dataframe\">\n",
       "  <thead>\n",
       "    <tr style=\"text-align: right;\">\n",
       "      <th></th>\n",
       "      <th>Date</th>\n",
       "      <th>Price</th>\n",
       "    </tr>\n",
       "  </thead>\n",
       "  <tbody>\n",
       "    <tr>\n",
       "      <th>0</th>\n",
       "      <td>20-May-87</td>\n",
       "      <td>18.63</td>\n",
       "    </tr>\n",
       "    <tr>\n",
       "      <th>1</th>\n",
       "      <td>21-May-87</td>\n",
       "      <td>18.45</td>\n",
       "    </tr>\n",
       "    <tr>\n",
       "      <th>2</th>\n",
       "      <td>22-May-87</td>\n",
       "      <td>18.55</td>\n",
       "    </tr>\n",
       "    <tr>\n",
       "      <th>3</th>\n",
       "      <td>25-May-87</td>\n",
       "      <td>18.60</td>\n",
       "    </tr>\n",
       "    <tr>\n",
       "      <th>4</th>\n",
       "      <td>26-May-87</td>\n",
       "      <td>18.63</td>\n",
       "    </tr>\n",
       "  </tbody>\n",
       "</table>\n",
       "</div>"
      ],
      "text/plain": [
       "        Date  Price\n",
       "0  20-May-87  18.63\n",
       "1  21-May-87  18.45\n",
       "2  22-May-87  18.55\n",
       "3  25-May-87  18.60\n",
       "4  26-May-87  18.63"
      ]
     },
     "metadata": {},
     "output_type": "display_data"
    },
    {
     "data": {
      "application/vnd.microsoft.datawrangler.viewer.v0+json": {
       "columns": [
        {
         "name": "index",
         "rawType": "int64",
         "type": "integer"
        },
        {
         "name": "Event",
         "rawType": "object",
         "type": "string"
        },
        {
         "name": "Start_Date",
         "rawType": "object",
         "type": "string"
        },
        {
         "name": "End_Date",
         "rawType": "object",
         "type": "string"
        },
        {
         "name": "Description",
         "rawType": "object",
         "type": "string"
        },
        {
         "name": "Reference",
         "rawType": "object",
         "type": "string"
        }
       ],
       "ref": "38d429e4-f0e5-4ff6-b41b-cca68321c729",
       "rows": [
        [
         "0",
         "Gulf War (Iraq-Kuwait Crisis)",
         "1990-08-02",
         "1991-02-28",
         "Iraqi invasion of Kuwait caused supply fears; prices spiked 150%.",
         "EIA"
        ],
        [
         "1",
         "Asian Financial Crisis",
         "1997-07-02",
         "1998-12-31",
         "Reduced demand from Asia; prices fell to $10/barrel.",
         "IMF"
        ],
        [
         "2",
         "OPEC Production Cuts (2001)",
         "2001-01-17",
         "2001-12-31",
         "OPEC cut 1.5M bpd to stabilize prices post-9/11 demand drop.",
         "OPEC"
        ],
        [
         "3",
         "Iraq War (2003)",
         "2003-03-20",
         "2003-12-31",
         "US invasion disrupted Iraqi exports; prices rose 50%.",
         "FRED"
        ],
        [
         "4",
         "Global Financial Crisis (2008)",
         "2008-09-15",
         "2009-06-30",
         "Demand collapse; prices dropped from $147 to $32 in 6 months.",
         "World Bank"
        ]
       ],
       "shape": {
        "columns": 5,
        "rows": 5
       }
      },
      "text/html": [
       "<div>\n",
       "<style scoped>\n",
       "    .dataframe tbody tr th:only-of-type {\n",
       "        vertical-align: middle;\n",
       "    }\n",
       "\n",
       "    .dataframe tbody tr th {\n",
       "        vertical-align: top;\n",
       "    }\n",
       "\n",
       "    .dataframe thead th {\n",
       "        text-align: right;\n",
       "    }\n",
       "</style>\n",
       "<table border=\"1\" class=\"dataframe\">\n",
       "  <thead>\n",
       "    <tr style=\"text-align: right;\">\n",
       "      <th></th>\n",
       "      <th>Event</th>\n",
       "      <th>Start_Date</th>\n",
       "      <th>End_Date</th>\n",
       "      <th>Description</th>\n",
       "      <th>Reference</th>\n",
       "    </tr>\n",
       "  </thead>\n",
       "  <tbody>\n",
       "    <tr>\n",
       "      <th>0</th>\n",
       "      <td>Gulf War (Iraq-Kuwait Crisis)</td>\n",
       "      <td>1990-08-02</td>\n",
       "      <td>1991-02-28</td>\n",
       "      <td>Iraqi invasion of Kuwait caused supply fears; ...</td>\n",
       "      <td>EIA</td>\n",
       "    </tr>\n",
       "    <tr>\n",
       "      <th>1</th>\n",
       "      <td>Asian Financial Crisis</td>\n",
       "      <td>1997-07-02</td>\n",
       "      <td>1998-12-31</td>\n",
       "      <td>Reduced demand from Asia; prices fell to $10/b...</td>\n",
       "      <td>IMF</td>\n",
       "    </tr>\n",
       "    <tr>\n",
       "      <th>2</th>\n",
       "      <td>OPEC Production Cuts (2001)</td>\n",
       "      <td>2001-01-17</td>\n",
       "      <td>2001-12-31</td>\n",
       "      <td>OPEC cut 1.5M bpd to stabilize prices post-9/1...</td>\n",
       "      <td>OPEC</td>\n",
       "    </tr>\n",
       "    <tr>\n",
       "      <th>3</th>\n",
       "      <td>Iraq War (2003)</td>\n",
       "      <td>2003-03-20</td>\n",
       "      <td>2003-12-31</td>\n",
       "      <td>US invasion disrupted Iraqi exports; prices ro...</td>\n",
       "      <td>FRED</td>\n",
       "    </tr>\n",
       "    <tr>\n",
       "      <th>4</th>\n",
       "      <td>Global Financial Crisis (2008)</td>\n",
       "      <td>2008-09-15</td>\n",
       "      <td>2009-06-30</td>\n",
       "      <td>Demand collapse; prices dropped from $147 to $...</td>\n",
       "      <td>World Bank</td>\n",
       "    </tr>\n",
       "  </tbody>\n",
       "</table>\n",
       "</div>"
      ],
      "text/plain": [
       "                            Event  Start_Date    End_Date  \\\n",
       "0   Gulf War (Iraq-Kuwait Crisis)  1990-08-02  1991-02-28   \n",
       "1          Asian Financial Crisis  1997-07-02  1998-12-31   \n",
       "2     OPEC Production Cuts (2001)  2001-01-17  2001-12-31   \n",
       "3                 Iraq War (2003)  2003-03-20  2003-12-31   \n",
       "4  Global Financial Crisis (2008)  2008-09-15  2009-06-30   \n",
       "\n",
       "                                         Description   Reference  \n",
       "0  Iraqi invasion of Kuwait caused supply fears; ...         EIA  \n",
       "1  Reduced demand from Asia; prices fell to $10/b...         IMF  \n",
       "2  OPEC cut 1.5M bpd to stabilize prices post-9/1...        OPEC  \n",
       "3  US invasion disrupted Iraqi exports; prices ro...        FRED  \n",
       "4  Demand collapse; prices dropped from $147 to $...  World Bank  "
      ]
     },
     "metadata": {},
     "output_type": "display_data"
    }
   ],
   "source": [
    "display(oil_data.head())\n",
    "display(event_data.head())"
   ]
  },
  {
   "cell_type": "code",
   "execution_count": 8,
   "id": "d4db1ffe",
   "metadata": {},
   "outputs": [
    {
     "name": "stdout",
     "output_type": "stream",
     "text": [
      "Oil Data Info:\n",
      "================================\n",
      "<class 'pandas.core.frame.DataFrame'>\n",
      "RangeIndex: 9011 entries, 0 to 9010\n",
      "Data columns (total 2 columns):\n",
      " #   Column  Non-Null Count  Dtype  \n",
      "---  ------  --------------  -----  \n",
      " 0   Date    9011 non-null   object \n",
      " 1   Price   9011 non-null   float64\n",
      "dtypes: float64(1), object(1)\n",
      "memory usage: 140.9+ KB\n",
      "None\n",
      "\n",
      "Event Data Info:\n",
      "================================\n",
      "<class 'pandas.core.frame.DataFrame'>\n",
      "RangeIndex: 10 entries, 0 to 9\n",
      "Data columns (total 5 columns):\n",
      " #   Column       Non-Null Count  Dtype \n",
      "---  ------       --------------  ----- \n",
      " 0   Event        10 non-null     object\n",
      " 1   Start_Date   10 non-null     object\n",
      " 2   End_Date     10 non-null     object\n",
      " 3   Description  10 non-null     object\n",
      " 4   Reference    10 non-null     object\n",
      "dtypes: object(5)\n",
      "memory usage: 532.0+ bytes\n",
      "None\n"
     ]
    }
   ],
   "source": [
    "print(\"Oil Data Info:\")\n",
    "print(\"================================\")\n",
    "print(oil_data.info())\n",
    "print(\"\\nEvent Data Info:\")\n",
    "print(\"================================\")\n",
    "print(event_data.info())"
   ]
  },
  {
   "cell_type": "markdown",
   "id": "afe8c7cc",
   "metadata": {},
   "source": [
    "#### Data Preparation"
   ]
  },
  {
   "cell_type": "code",
   "execution_count": 21,
   "id": "b3c441d7",
   "metadata": {},
   "outputs": [
    {
     "data": {
      "text/plain": [
       "<module 'src.data_cleaner' from '/home/chalasimon/Documents/10academy/week 10/challenge/Oil-Price-Analysis/src/data_cleaner.py'>"
      ]
     },
     "execution_count": 21,
     "metadata": {},
     "output_type": "execute_result"
    }
   ],
   "source": [
    "# load the module\n",
    "from src.data_cleaner import DataCleaner\n",
    "import src.data_cleaner\n",
    "reload(src.data_cleaner)"
   ]
  },
  {
   "cell_type": "code",
   "execution_count": 22,
   "id": "90eb2f8c",
   "metadata": {},
   "outputs": [],
   "source": [
    "# initialize the DataCleaner\n",
    "oil_data_cleaner= DataCleaner(missing_threshold=0.1)\n",
    "event_data_cleaner= DataCleaner(missing_threshold=0.1)"
   ]
  },
  {
   "cell_type": "code",
   "execution_count": 24,
   "id": "694dcb4b",
   "metadata": {},
   "outputs": [
    {
     "name": "stderr",
     "output_type": "stream",
     "text": [
      "/tmp/ipykernel_21293/3205842272.py:2: UserWarning: Could not infer format, so each element will be parsed individually, falling back to `dateutil`. To ensure parsing is consistent and as-expected, please specify a format.\n",
      "  oil_data['Date'] = pd.to_datetime(oil_data['Date'])\n"
     ]
    }
   ],
   "source": [
    "# parse the date\n",
    "oil_data['Date'] = pd.to_datetime(oil_data['Date'])\n",
    "event_data['Start_Date'] = pd.to_datetime(event_data['Start_Date'])\n",
    "event_data['End_Date'] = pd.to_datetime(event_data['End_Date'])"
   ]
  },
  {
   "cell_type": "code",
   "execution_count": 25,
   "id": "0ec3bfec",
   "metadata": {},
   "outputs": [
    {
     "name": "stderr",
     "output_type": "stream",
     "text": [
      "/home/chalasimon/Documents/10academy/week 10/challenge/Oil-Price-Analysis/src/data_cleaner.py:17: FutureWarning: DataFrame.interpolate with object dtype is deprecated and will raise in a future version. Call obj.infer_objects(copy=False) before interpolating instead.\n",
      "  df = df.interpolate()\n"
     ]
    }
   ],
   "source": [
    "# run the cleaning process\n",
    "oil_data_cleaned = oil_data_cleaner.transform_oil(oil_data)\n",
    "event_data_cleaned = event_data_cleaner.transform_event(event_data)"
   ]
  },
  {
   "cell_type": "markdown",
   "id": "a9349b05",
   "metadata": {},
   "source": [
    "#### Exploratory Data Analysis (EDA)"
   ]
  }
 ],
 "metadata": {
  "kernelspec": {
   "display_name": ".venv",
   "language": "python",
   "name": "python3"
  },
  "language_info": {
   "codemirror_mode": {
    "name": "ipython",
    "version": 3
   },
   "file_extension": ".py",
   "mimetype": "text/x-python",
   "name": "python",
   "nbconvert_exporter": "python",
   "pygments_lexer": "ipython3",
   "version": "3.12.3"
  }
 },
 "nbformat": 4,
 "nbformat_minor": 5
}
