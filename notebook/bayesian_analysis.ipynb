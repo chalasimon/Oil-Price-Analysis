{
 "cells": [
  {
   "cell_type": "markdown",
   "id": "dcc8e501",
   "metadata": {},
   "source": [
    "# Task 2: Bayesian Change Point Analysis"
   ]
  },
  {
   "cell_type": "code",
   "execution_count": 1,
   "id": "2c0565b5",
   "metadata": {},
   "outputs": [],
   "source": [
    "# import necessary libraries\n",
    "import sys\n",
    "import os\n",
    "import pandas as pd\n",
    "from glob import glob"
   ]
  },
  {
   "cell_type": "code",
   "execution_count": 2,
   "id": "19f53d5a",
   "metadata": {},
   "outputs": [],
   "source": [
    "from pathlib import Path\n",
    "from importlib import reload\n",
    "# add the project root to the path\n",
    "project_root = Path(\"..\").resolve()\n",
    "if str(project_root) not in sys.path:\n",
    "    sys.path.insert(0, str(project_root))"
   ]
  },
  {
   "cell_type": "markdown",
   "id": "22661a0e",
   "metadata": {},
   "source": [
    "#### Data Loading"
   ]
  },
  {
   "cell_type": "code",
   "execution_count": 3,
   "id": "d681cf71",
   "metadata": {},
   "outputs": [
    {
     "data": {
      "text/plain": [
       "<module 'src.DataLoader' from '/home/chalasimon/Documents/10academy/week 10/challenge/Oil-Price-Analysis/src/DataLoader.py'>"
      ]
     },
     "execution_count": 3,
     "metadata": {},
     "output_type": "execute_result"
    }
   ],
   "source": [
    "# Loading the module\n",
    "from src.DataLoader import DataLoader\n",
    "import src.DataLoader\n",
    "reload(src.DataLoader)"
   ]
  },
  {
   "cell_type": "code",
   "execution_count": 4,
   "id": "38a1fe0a",
   "metadata": {},
   "outputs": [],
   "source": [
    "# data path\n",
    "oil_data_path =\"../data/BrentOilPrices.csv\"\n",
    "event_data_path = \"../data/event.csv\""
   ]
  },
  {
   "cell_type": "code",
   "execution_count": 5,
   "id": "2197da97",
   "metadata": {},
   "outputs": [
    {
     "name": "stdout",
     "output_type": "stream",
     "text": [
      "Data loaded successfully.\n",
      "Data loaded successfully.\n"
     ]
    }
   ],
   "source": [
    "# initialize the DataLoader\n",
    "oil_data_loader = DataLoader(oil_data_path)\n",
    "event_data_loader = DataLoader(event_data_path)\n",
    "# load the data\n",
    "oil_data = oil_data_loader.load_data()\n",
    "event_data = event_data_loader.load_data()"
   ]
  }
 ],
 "metadata": {
  "kernelspec": {
   "display_name": ".venv",
   "language": "python",
   "name": "python3"
  },
  "language_info": {
   "codemirror_mode": {
    "name": "ipython",
    "version": 3
   },
   "file_extension": ".py",
   "mimetype": "text/x-python",
   "name": "python",
   "nbconvert_exporter": "python",
   "pygments_lexer": "ipython3",
   "version": "3.12.3"
  }
 },
 "nbformat": 4,
 "nbformat_minor": 5
}
