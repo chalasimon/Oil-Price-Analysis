{
 "cells": [
  {
   "cell_type": "markdown",
   "id": "8674c2ce",
   "metadata": {},
   "source": [
    "# Task 1: Laying the Foundation for Analysis"
   ]
  },
  {
   "cell_type": "code",
   "execution_count": 1,
   "id": "c2609a5f",
   "metadata": {},
   "outputs": [],
   "source": [
    "# import necessary libraries\n",
    "import sys\n",
    "import os\n",
    "import pandas as pd\n",
    "from glob import glob"
   ]
  },
  {
   "cell_type": "code",
   "execution_count": 2,
   "id": "e4c6e757",
   "metadata": {},
   "outputs": [],
   "source": [
    "from pathlib import Path\n",
    "from importlib import reload\n",
    "# add the project root to the path\n",
    "project_root = Path(\"..\").resolve()\n",
    "if str(project_root) not in sys.path:\n",
    "    sys.path.insert(0, str(project_root))"
   ]
  },
  {
   "cell_type": "markdown",
   "id": "a802f2a0",
   "metadata": {},
   "source": [
    "#### Loading data"
   ]
  },
  {
   "cell_type": "code",
   "execution_count": 3,
   "id": "100bfd64",
   "metadata": {},
   "outputs": [
    {
     "data": {
      "text/plain": [
       "<module 'src.DataLoader' from '/home/chalasimon/Documents/10academy/week 10/challenge/Oil-Price-Analysis/src/DataLoader.py'>"
      ]
     },
     "execution_count": 3,
     "metadata": {},
     "output_type": "execute_result"
    }
   ],
   "source": [
    "# Loading the module\n",
    "from src.DataLoader import DataLoader\n",
    "import src.DataLoader\n",
    "reload(src.DataLoader)"
   ]
  },
  {
   "cell_type": "code",
   "execution_count": 4,
   "id": "23fcac4e",
   "metadata": {},
   "outputs": [],
   "source": [
    "# data path\n",
    "data_path =\"../data/BrentOilPrices.csv\""
   ]
  },
  {
   "cell_type": "code",
   "execution_count": 5,
   "id": "9006e099",
   "metadata": {},
   "outputs": [
    {
     "name": "stdout",
     "output_type": "stream",
     "text": [
      "Data loaded successfully.\n"
     ]
    }
   ],
   "source": [
    "# initialize the DataLoader\n",
    "data_loader = DataLoader(data_path)\n",
    "# load the data\n",
    "oil_data = data_loader.load_data()"
   ]
  },
  {
   "cell_type": "markdown",
   "id": "6c749468",
   "metadata": {},
   "source": [
    "#### Preprocessing"
   ]
  },
  {
   "cell_type": "code",
   "execution_count": 8,
   "id": "e26780fc",
   "metadata": {},
   "outputs": [
    {
     "data": {
      "text/plain": [
       "<module 'src.data_preprocessing' from '/home/chalasimon/Documents/10academy/week 10/challenge/Oil-Price-Analysis/src/data_preprocessing.py'>"
      ]
     },
     "execution_count": 8,
     "metadata": {},
     "output_type": "execute_result"
    }
   ],
   "source": [
    "# Load the model\n",
    "from src.data_preprocessing import DataPreprocessing\n",
    "import src.data_preprocessing\n",
    "reload(src.data_preprocessing)"
   ]
  },
  {
   "cell_type": "code",
   "execution_count": 9,
   "id": "e3a442b0",
   "metadata": {},
   "outputs": [
    {
     "name": "stdout",
     "output_type": "stream",
     "text": [
      "Starting data preprocessing...\n",
      "Date format changed and data sorted by date.\n",
      "First few rows of the data after changing format:\n",
      "            Price\n",
      "Date             \n",
      "1987-05-20  18.63\n",
      "1987-05-21  18.45\n",
      "1987-05-22  18.55\n",
      "1987-05-25  18.60\n",
      "1987-05-26  18.63\n",
      "Brent Oil Prices Time Series Head:\n"
     ]
    },
    {
     "data": {
      "application/vnd.microsoft.datawrangler.viewer.v0+json": {
       "columns": [
        {
         "name": "Date",
         "rawType": "datetime64[ns]",
         "type": "datetime"
        },
        {
         "name": "Price",
         "rawType": "float64",
         "type": "float"
        }
       ],
       "ref": "1acbfd53-7d4a-4c95-b3f5-29d20a1a6e5f",
       "rows": [
        [
         "1987-05-20 00:00:00",
         "18.63"
        ],
        [
         "1987-05-21 00:00:00",
         "18.45"
        ],
        [
         "1987-05-22 00:00:00",
         "18.55"
        ],
        [
         "1987-05-25 00:00:00",
         "18.6"
        ],
        [
         "1987-05-26 00:00:00",
         "18.63"
        ]
       ],
       "shape": {
        "columns": 1,
        "rows": 5
       }
      },
      "text/plain": [
       "Date\n",
       "1987-05-20    18.63\n",
       "1987-05-21    18.45\n",
       "1987-05-22    18.55\n",
       "1987-05-25    18.60\n",
       "1987-05-26    18.63\n",
       "Name: Price, dtype: float64"
      ]
     },
     "metadata": {},
     "output_type": "display_data"
    },
    {
     "name": "stdout",
     "output_type": "stream",
     "text": [
      "\n",
      "Brent Oil Prices Time Series Tail:\n"
     ]
    },
    {
     "data": {
      "application/vnd.microsoft.datawrangler.viewer.v0+json": {
       "columns": [
        {
         "name": "Date",
         "rawType": "datetime64[ns]",
         "type": "datetime"
        },
        {
         "name": "Price",
         "rawType": "float64",
         "type": "float"
        }
       ],
       "ref": "c8e1118e-82aa-4918-8a28-ca70c279b5f1",
       "rows": [
        [
         "2022-11-08 00:00:00",
         "96.85"
        ],
        [
         "2022-11-09 00:00:00",
         "93.05"
        ],
        [
         "2022-11-10 00:00:00",
         "94.25"
        ],
        [
         "2022-11-11 00:00:00",
         "96.37"
        ],
        [
         "2022-11-14 00:00:00",
         "93.59"
        ]
       ],
       "shape": {
        "columns": 1,
        "rows": 5
       }
      },
      "text/plain": [
       "Date\n",
       "2022-11-08    96.85\n",
       "2022-11-09    93.05\n",
       "2022-11-10    94.25\n",
       "2022-11-11    96.37\n",
       "2022-11-14    93.59\n",
       "Name: Price, dtype: float64"
      ]
     },
     "metadata": {},
     "output_type": "display_data"
    },
    {
     "name": "stdout",
     "output_type": "stream",
     "text": [
      "\n",
      "Brent Oil Log Returns Time Series Head:\n"
     ]
    },
    {
     "data": {
      "application/vnd.microsoft.datawrangler.viewer.v0+json": {
       "columns": [
        {
         "name": "Date",
         "rawType": "datetime64[ns]",
         "type": "datetime"
        },
        {
         "name": "Log_Return",
         "rawType": "float64",
         "type": "float"
        }
       ],
       "ref": "24450e02-7dab-4763-aed1-e82469e09912",
       "rows": [
        [
         "1987-05-20 00:00:00",
         null
        ],
        [
         "1987-05-21 00:00:00",
         "-0.009708814126960785"
        ],
        [
         "1987-05-22 00:00:00",
         "0.005405418566907905"
        ],
        [
         "1987-05-25 00:00:00",
         "0.0026917916657116514"
        ],
        [
         "1987-05-26 00:00:00",
         "0.0016116038943412292"
        ]
       ],
       "shape": {
        "columns": 1,
        "rows": 5
       }
      },
      "text/plain": [
       "Date\n",
       "1987-05-20         NaN\n",
       "1987-05-21   -0.009709\n",
       "1987-05-22    0.005405\n",
       "1987-05-25    0.002692\n",
       "1987-05-26    0.001612\n",
       "Name: Log_Return, dtype: float64"
      ]
     },
     "metadata": {},
     "output_type": "display_data"
    },
    {
     "name": "stdout",
     "output_type": "stream",
     "text": [
      "\n",
      "Brent Oil Log Returns Time Series Tail:\n"
     ]
    },
    {
     "data": {
      "application/vnd.microsoft.datawrangler.viewer.v0+json": {
       "columns": [
        {
         "name": "Date",
         "rawType": "datetime64[ns]",
         "type": "datetime"
        },
        {
         "name": "Log_Return",
         "rawType": "float64",
         "type": "float"
        }
       ],
       "ref": "cdc34370-f9ea-48cb-ab9f-f602ec925964",
       "rows": [
        [
         "2022-11-08 00:00:00",
         "-0.030705950402038162"
        ],
        [
         "2022-11-09 00:00:00",
         "-0.04002640676474556"
        ],
        [
         "2022-11-10 00:00:00",
         "0.012813843239860567"
        ],
        [
         "2022-11-11 00:00:00",
         "0.0222441235350761"
        ],
        [
         "2022-11-14 00:00:00",
         "-0.029271409694031192"
        ]
       ],
       "shape": {
        "columns": 1,
        "rows": 5
       }
      },
      "text/plain": [
       "Date\n",
       "2022-11-08   -0.030706\n",
       "2022-11-09   -0.040026\n",
       "2022-11-10    0.012814\n",
       "2022-11-11    0.022244\n",
       "2022-11-14   -0.029271\n",
       "Name: Log_Return, dtype: float64"
      ]
     },
     "metadata": {},
     "output_type": "display_data"
    },
    {
     "name": "stdout",
     "output_type": "stream",
     "text": [
      "Data preprocessing completed.\n"
     ]
    }
   ],
   "source": [
    "# initialize the data preprocessing\n",
    "data_preprocessing = DataPreprocessing(oil_data)\n",
    "# preprocess the data\n",
    "oil_data_processed = data_preprocessing.preprocess()"
   ]
  },
  {
   "cell_type": "markdown",
   "id": "8676a896",
   "metadata": {},
   "source": [
    "#### Exploratory Data Analysis (EDA)"
   ]
  },
  {
   "cell_type": "code",
   "execution_count": 10,
   "id": "7f73f404",
   "metadata": {},
   "outputs": [
    {
     "data": {
      "text/plain": [
       "<module 'src.EDA' from '/home/chalasimon/Documents/10academy/week 10/challenge/Oil-Price-Analysis/src/EDA.py'>"
      ]
     },
     "execution_count": 10,
     "metadata": {},
     "output_type": "execute_result"
    }
   ],
   "source": [
    "# load the module\n",
    "from src.EDA import EDA\n",
    "import src.EDA\n",
    "reload(src.EDA)"
   ]
  },
  {
   "cell_type": "code",
   "execution_count": 11,
   "id": "9518c4df",
   "metadata": {},
   "outputs": [
    {
     "name": "stdout",
     "output_type": "stream",
     "text": [
      "Running Exploratory Data Analysis...\n",
      "Summary Statistics:\n",
      "             Price   Log_Return\n",
      "count  9011.000000  9010.000000\n",
      "mean     48.420782     0.000179\n",
      "std      32.860110     0.025532\n",
      "min       9.100000    -0.643699\n",
      "25%      19.050000    -0.011154\n",
      "50%      38.570000     0.000402\n",
      "75%      70.090000     0.012127\n",
      "max     143.950000     0.412023\n",
      "\n",
      "Data Types:\n",
      "Price         float64\n",
      "Log_Return    float64\n",
      "dtype: object\n",
      "\n",
      "Missing Values:\n",
      "Price         0\n",
      "Log_Return    1\n",
      "dtype: int64\n"
     ]
    },
    {
     "data": {
      "image/png": "[encoded data removed]",
      "text/plain": [
       "<Figure size 1400x700 with 1 Axes>"
      ]
     },
     "metadata": {},
     "output_type": "display_data"
    },
    {
     "data": {
      "image/png": "[encoded data removed]",
      "text/plain": [
       "<Figure size 1000x600 with 1 Axes>"
      ]
     },
     "metadata": {},
     "output_type": "display_data"
    },
    {
     "name": "stdout",
     "output_type": "stream",
     "text": [
      "EDA completed.\n"
     ]
    },
    {
     "data": {
      "application/vnd.microsoft.datawrangler.viewer.v0+json": {
       "columns": [
        {
         "name": "Date",
         "rawType": "datetime64[ns]",
         "type": "datetime"
        },
        {
         "name": "Price",
         "rawType": "float64",
         "type": "float"
        },
        {
         "name": "Log_Return",
         "rawType": "float64",
         "type": "float"
        }
       ],
       "ref": "be59abae-b1c2-4e7c-84ee-027a401f16ad",
       "rows": [
        [
         "1987-05-20 00:00:00",
         "18.63",
         null
        ],
        [
         "1987-05-21 00:00:00",
         "18.45",
         "-0.009708814126960785"
        ],
        [
         "1987-05-22 00:00:00",
         "18.55",
         "0.005405418566907905"
        ],
        [
         "1987-05-25 00:00:00",
         "18.6",
         "0.0026917916657116514"
        ],
        [
         "1987-05-26 00:00:00",
         "18.63",
         "0.0016116038943412292"
        ],
        [
         "1987-05-27 00:00:00",
         "18.6",
         "-0.0016116038943412292"
        ],
        [
         "1987-05-28 00:00:00",
         "18.6",
         "0.0"
        ],
        [
         "1987-05-29 00:00:00",
         "18.58",
         "-0.0010758473334635532"
        ],
        [
         "1987-06-01 00:00:00",
         "18.65",
         "0.00376041270413241"
        ],
        [
         "1987-06-02 00:00:00",
         "18.68",
         "0.001607286710871847"
        ],
        [
         "1987-06-03 00:00:00",
         "18.75",
         "0.0037403196157232976"
        ],
        [
         "1987-06-04 00:00:00",
         "18.78",
         "0.0015987213636972086"
        ],
        [
         "1987-06-05 00:00:00",
         "18.65",
         "-0.006946327690292353"
        ],
        [
         "1987-06-08 00:00:00",
         "18.75",
         "0.0053476063265951446"
        ],
        [
         "1987-06-09 00:00:00",
         "18.78",
         "0.0015987213636972086"
        ],
        [
         "1987-06-10 00:00:00",
         "18.78",
         "0.0"
        ],
        [
         "1987-06-11 00:00:00",
         "18.68",
         "-0.005339040979420506"
        ],
        [
         "1987-06-12 00:00:00",
         "18.78",
         "0.005339040979420506"
        ],
        [
         "1987-06-16 00:00:00",
         "18.9",
         "0.006369448285479695"
        ],
        [
         "1987-06-17 00:00:00",
         "19.03",
         "0.006854759242461483"
        ],
        [
         "1987-06-18 00:00:00",
         "19.05",
         "0.0010504202646517413"
        ],
        [
         "1987-06-19 00:00:00",
         "19.05",
         "0.0"
        ],
        [
         "1987-06-22 00:00:00",
         "19.1",
         "0.0026212334798745296"
        ],
        [
         "1987-06-23 00:00:00",
         "18.9",
         "-0.010526412986987754"
        ],
        [
         "1987-06-24 00:00:00",
         "18.75",
         "-0.007968169649176904"
        ],
        [
         "1987-06-25 00:00:00",
         "18.7",
         "-0.0026702285558788397"
        ],
        [
         "1987-06-26 00:00:00",
         "19.08",
         "0.020117142159599588"
        ],
        [
         "1987-06-29 00:00:00",
         "19.15",
         "0.003662049606514284"
        ],
        [
         "1987-06-30 00:00:00",
         "19.08",
         "-0.003662049606514284"
        ],
        [
         "1987-07-01 00:00:00",
         "18.98",
         "-0.005254872838358793"
        ],
        [
         "1987-07-02 00:00:00",
         "19.25",
         "0.0141252675520116"
        ],
        [
         "1987-07-03 00:00:00",
         "19.33",
         "0.004147232486446217"
        ],
        [
         "1987-07-06 00:00:00",
         "19.48",
         "0.007730004994149553"
        ],
        [
         "1987-07-07 00:00:00",
         "19.5",
         "0.0010261673553118023"
        ],
        [
         "1987-07-08 00:00:00",
         "19.48",
         "-0.0010261673553118023"
        ],
        [
         "1987-07-09 00:00:00",
         "19.68",
         "0.010214593409718198"
        ],
        [
         "1987-07-10 00:00:00",
         "19.73",
         "0.002537428410416709"
        ],
        [
         "1987-07-13 00:00:00",
         "19.83",
         "0.005055622497180501"
        ],
        [
         "1987-07-14 00:00:00",
         "19.88",
         "0.0025182586967233966"
        ],
        [
         "1987-07-15 00:00:00",
         "20.28",
         "0.01992097749455457"
        ],
        [
         "1987-07-16 00:00:00",
         "20.4",
         "0.005899722127188145"
        ],
        [
         "1987-07-17 00:00:00",
         "20.63",
         "0.011211426232989652"
        ],
        [
         "1987-07-20 00:00:00",
         "20.55",
         "-0.0038853861409164914"
        ],
        [
         "1987-07-21 00:00:00",
         "20.35",
         "-0.009780029053639616"
        ],
        [
         "1987-07-22 00:00:00",
         "20.33",
         "-0.0009832842483490367"
        ],
        [
         "1987-07-23 00:00:00",
         "20.15",
         "-0.008893339247563414"
        ],
        [
         "1987-07-24 00:00:00",
         "19.58",
         "-0.028695651290327362"
        ],
        [
         "1987-07-27 00:00:00",
         "19.3",
         "-0.01440354119152465"
        ],
        [
         "1987-07-28 00:00:00",
         "19.78",
         "0.024566230283726398"
        ],
        [
         "1987-07-29 00:00:00",
         "19.98",
         "0.010060447025841412"
        ]
       ],
       "shape": {
        "columns": 2,
        "rows": 9011
       }
      },
      "text/html": [
       "<div>\n",
       "<style scoped>\n",
       "    .dataframe tbody tr th:only-of-type {\n",
       "        vertical-align: middle;\n",
       "    }\n",
       "\n",
       "    .dataframe tbody tr th {\n",
       "        vertical-align: top;\n",
       "    }\n",
       "\n",
       "    .dataframe thead th {\n",
       "        text-align: right;\n",
       "    }\n",
       "</style>\n",
       "<table border=\"1\" class=\"dataframe\">\n",
       "  <thead>\n",
       "    <tr style=\"text-align: right;\">\n",
       "      <th></th>\n",
       "      <th>Price</th>\n",
       "      <th>Log_Return</th>\n",
       "    </tr>\n",
       "    <tr>\n",
       "      <th>Date</th>\n",
       "      <th></th>\n",
       "      <th></th>\n",
       "    </tr>\n",
       "  </thead>\n",
       "  <tbody>\n",
       "    <tr>\n",
       "      <th>1987-05-20</th>\n",
       "      <td>18.63</td>\n",
       "      <td>NaN</td>\n",
       "    </tr>\n",
       "    <tr>\n",
       "      <th>1987-05-21</th>\n",
       "      <td>18.45</td>\n",
       "      <td>-0.009709</td>\n",
       "    </tr>\n",
       "    <tr>\n",
       "      <th>1987-05-22</th>\n",
       "      <td>18.55</td>\n",
       "      <td>0.005405</td>\n",
       "    </tr>\n",
       "    <tr>\n",
       "      <th>1987-05-25</th>\n",
       "      <td>18.60</td>\n",
       "      <td>0.002692</td>\n",
       "    </tr>\n",
       "    <tr>\n",
       "      <th>1987-05-26</th>\n",
       "      <td>18.63</td>\n",
       "      <td>0.001612</td>\n",
       "    </tr>\n",
       "    <tr>\n",
       "      <th>...</th>\n",
       "      <td>...</td>\n",
       "      <td>...</td>\n",
       "    </tr>\n",
       "    <tr>\n",
       "      <th>2022-11-08</th>\n",
       "      <td>96.85</td>\n",
       "      <td>-0.030706</td>\n",
       "    </tr>\n",
       "    <tr>\n",
       "      <th>2022-11-09</th>\n",
       "      <td>93.05</td>\n",
       "      <td>-0.040026</td>\n",
       "    </tr>\n",
       "    <tr>\n",
       "      <th>2022-11-10</th>\n",
       "      <td>94.25</td>\n",
       "      <td>0.012814</td>\n",
       "    </tr>\n",
       "    <tr>\n",
       "      <th>2022-11-11</th>\n",
       "      <td>96.37</td>\n",
       "      <td>0.022244</td>\n",
       "    </tr>\n",
       "    <tr>\n",
       "      <th>2022-11-14</th>\n",
       "      <td>93.59</td>\n",
       "      <td>-0.029271</td>\n",
       "    </tr>\n",
       "  </tbody>\n",
       "</table>\n",
       "<p>9011 rows × 2 columns</p>\n",
       "</div>"
      ],
      "text/plain": [
       "            Price  Log_Return\n",
       "Date                         \n",
       "1987-05-20  18.63         NaN\n",
       "1987-05-21  18.45   -0.009709\n",
       "1987-05-22  18.55    0.005405\n",
       "1987-05-25  18.60    0.002692\n",
       "1987-05-26  18.63    0.001612\n",
       "...           ...         ...\n",
       "2022-11-08  96.85   -0.030706\n",
       "2022-11-09  93.05   -0.040026\n",
       "2022-11-10  94.25    0.012814\n",
       "2022-11-11  96.37    0.022244\n",
       "2022-11-14  93.59   -0.029271\n",
       "\n",
       "[9011 rows x 2 columns]"
      ]
     },
     "execution_count": 11,
     "metadata": {},
     "output_type": "execute_result"
    }
   ],
   "source": [
    "# initialize the EDA\n",
    "eda = EDA(oil_data_processed)\n",
    "# perform EDA\n",
    "eda.run_eda()"
   ]
  }
 ],
 "metadata": {
  "kernelspec": {
   "display_name": ".venv",
   "language": "python",
   "name": "python3"
  },
  "language_info": {
   "codemirror_mode": {
    "name": "ipython",
    "version": 3
   },
   "file_extension": ".py",
   "mimetype": "text/x-python",
   "name": "python",
   "nbconvert_exporter": "python",
   "pygments_lexer": "ipython3",
   "version": "3.12.3"
  }
 },
 "nbformat": 4,
 "nbformat_minor": 5
}
