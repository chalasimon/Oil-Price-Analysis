{
 "cells": [
  {
   "cell_type": "markdown",
   "id": "8674c2ce",
   "metadata": {},
   "source": [
    "# Task 1: Laying the Foundation for Analysis"
   ]
  },
  {
   "cell_type": "code",
   "execution_count": 1,
   "id": "c2609a5f",
   "metadata": {},
   "outputs": [],
   "source": [
    "# import necessary libraries\n",
    "import sys\n",
    "import os\n",
    "import pandas as pd\n",
    "from glob import glob"
   ]
  },
  {
   "cell_type": "code",
   "execution_count": 2,
   "id": "e4c6e757",
   "metadata": {},
   "outputs": [],
   "source": [
    "from pathlib import Path\n",
    "from importlib import reload\n",
    "# add the project root to the path\n",
    "project_root = Path(\"..\").resolve()\n",
    "if str(project_root) not in sys.path:\n",
    "    sys.path.insert(0, str(project_root))"
   ]
  },
  {
   "cell_type": "markdown",
   "id": "a802f2a0",
   "metadata": {},
   "source": [
    "#### Loading data"
   ]
  },
  {
   "cell_type": "code",
   "execution_count": 3,
   "id": "100bfd64",
   "metadata": {},
   "outputs": [
    {
     "data": {
      "text/plain": [
       "<module 'src.DataLoader' from '/home/chalasimon/Documents/10academy/week 10/challenge/Oil-Price-Analysis/src/DataLoader.py'>"
      ]
     },
     "execution_count": 3,
     "metadata": {},
     "output_type": "execute_result"
    }
   ],
   "source": [
    "# Loading the module\n",
    "from src.DataLoader import DataLoader\n",
    "import src.DataLoader\n",
    "reload(src.DataLoader)"
   ]
  },
  {
   "cell_type": "code",
   "execution_count": 5,
   "id": "23fcac4e",
   "metadata": {},
   "outputs": [],
   "source": [
    "# data path\n",
    "data_path =\"../data/BrentOilPrices.csv\""
   ]
  },
  {
   "cell_type": "code",
   "execution_count": 6,
   "id": "9006e099",
   "metadata": {},
   "outputs": [
    {
     "name": "stdout",
     "output_type": "stream",
     "text": [
      "Data loaded successfully.\n"
     ]
    }
   ],
   "source": [
    "# initialize the DataLoader\n",
    "data_loader = DataLoader(data_path)\n",
    "# load the data\n",
    "oil_data = data_loader.load_data()"
   ]
  }
 ],
 "metadata": {
  "kernelspec": {
   "display_name": ".venv",
   "language": "python",
   "name": "python3"
  },
  "language_info": {
   "codemirror_mode": {
    "name": "ipython",
    "version": 3
   },
   "file_extension": ".py",
   "mimetype": "text/x-python",
   "name": "python",
   "nbconvert_exporter": "python",
   "pygments_lexer": "ipython3",
   "version": "3.12.3"
  }
 },
 "nbformat": 4,
 "nbformat_minor": 5
}
