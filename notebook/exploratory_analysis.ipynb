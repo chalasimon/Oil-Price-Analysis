{
 "cells": [
  {
   "cell_type": "markdown",
   "id": "8674c2ce",
   "metadata": {},
   "source": [
    "# Task 1: Laying the Foundation for Analysis"
   ]
  },
  {
   "cell_type": "code",
   "execution_count": 1,
   "id": "c2609a5f",
   "metadata": {},
   "outputs": [],
   "source": [
    "# import necessary libraries\n",
    "import sys\n",
    "import os\n",
    "import pandas as pd\n",
    "from glob import glob"
   ]
  },
  {
   "cell_type": "code",
   "execution_count": 2,
   "id": "e4c6e757",
   "metadata": {},
   "outputs": [],
   "source": [
    "from pathlib import Path\n",
    "from importlib import reload\n",
    "# add the project root to the path\n",
    "project_root = Path(\"..\").resolve()\n",
    "if str(project_root) not in sys.path:\n",
    "    sys.path.insert(0, str(project_root))"
   ]
  },
  {
   "cell_type": "markdown",
   "id": "a802f2a0",
   "metadata": {},
   "source": [
    "#### Loading data"
   ]
  },
  {
   "cell_type": "code",
   "execution_count": 3,
   "id": "100bfd64",
   "metadata": {},
   "outputs": [
    {
     "data": {
      "text/plain": [
       "<module 'src.DataLoader' from '/home/chalasimon/Documents/10academy/week 10/challenge/Oil-Price-Analysis/src/DataLoader.py'>"
      ]
     },
     "execution_count": 3,
     "metadata": {},
     "output_type": "execute_result"
    }
   ],
   "source": [
    "# Loading the module\n",
    "from src.DataLoader import DataLoader\n",
    "import src.DataLoader\n",
    "reload(src.DataLoader)"
   ]
  },
  {
   "cell_type": "code",
   "execution_count": 4,
   "id": "23fcac4e",
   "metadata": {},
   "outputs": [],
   "source": [
    "# data path\n",
    "data_path =\"../data/BrentOilPrices.csv\""
   ]
  },
  {
   "cell_type": "code",
   "execution_count": 5,
   "id": "9006e099",
   "metadata": {},
   "outputs": [
    {
     "name": "stdout",
     "output_type": "stream",
     "text": [
      "Data loaded successfully.\n"
     ]
    }
   ],
   "source": [
    "# initialize the DataLoader\n",
    "data_loader = DataLoader(data_path)\n",
    "# load the data\n",
    "oil_data = data_loader.load_data()"
   ]
  },
  {
   "cell_type": "markdown",
   "id": "6c749468",
   "metadata": {},
   "source": [
    "#### Preprocessing"
   ]
  },
  {
   "cell_type": "code",
   "execution_count": 8,
   "id": "e26780fc",
   "metadata": {},
   "outputs": [
    {
     "data": {
      "text/plain": [
       "<module 'src.data_preprocessing' from '/home/chalasimon/Documents/10academy/week 10/challenge/Oil-Price-Analysis/src/data_preprocessing.py'>"
      ]
     },
     "execution_count": 8,
     "metadata": {},
     "output_type": "execute_result"
    }
   ],
   "source": [
    "# Load the model\n",
    "from src.data_preprocessing import DataPreprocessing\n",
    "import src.data_preprocessing\n",
    "reload(src.data_preprocessing)"
   ]
  },
  {
   "cell_type": "code",
   "execution_count": 9,
   "id": "e3a442b0",
   "metadata": {},
   "outputs": [
    {
     "name": "stdout",
     "output_type": "stream",
     "text": [
      "Starting data preprocessing...\n",
      "Date format changed and data sorted by date.\n",
      "First few rows of the data after changing format:\n",
      "            Price\n",
      "Date             \n",
      "1987-05-20  18.63\n",
      "1987-05-21  18.45\n",
      "1987-05-22  18.55\n",
      "1987-05-25  18.60\n",
      "1987-05-26  18.63\n",
      "Brent Oil Prices Time Series Head:\n"
     ]
    },
    {
     "data": {
      "application/vnd.microsoft.datawrangler.viewer.v0+json": {
       "columns": [
        {
         "name": "Date",
         "rawType": "datetime64[ns]",
         "type": "datetime"
        },
        {
         "name": "Price",
         "rawType": "float64",
         "type": "float"
        }
       ],
       "ref": "1acbfd53-7d4a-4c95-b3f5-29d20a1a6e5f",
       "rows": [
        [
         "1987-05-20 00:00:00",
         "18.63"
        ],
        [
         "1987-05-21 00:00:00",
         "18.45"
        ],
        [
         "1987-05-22 00:00:00",
         "18.55"
        ],
        [
         "1987-05-25 00:00:00",
         "18.6"
        ],
        [
         "1987-05-26 00:00:00",
         "18.63"
        ]
       ],
       "shape": {
        "columns": 1,
        "rows": 5
       }
      },
      "text/plain": [
       "Date\n",
       "1987-05-20    18.63\n",
       "1987-05-21    18.45\n",
       "1987-05-22    18.55\n",
       "1987-05-25    18.60\n",
       "1987-05-26    18.63\n",
       "Name: Price, dtype: float64"
      ]
     },
     "metadata": {},
     "output_type": "display_data"
    },
    {
     "name": "stdout",
     "output_type": "stream",
     "text": [
      "\n",
      "Brent Oil Prices Time Series Tail:\n"
     ]
    },
    {
     "data": {
      "application/vnd.microsoft.datawrangler.viewer.v0+json": {
       "columns": [
        {
         "name": "Date",
         "rawType": "datetime64[ns]",
         "type": "datetime"
        },
        {
         "name": "Price",
         "rawType": "float64",
         "type": "float"
        }
       ],
       "ref": "c8e1118e-82aa-4918-8a28-ca70c279b5f1",
       "rows": [
        [
         "2022-11-08 00:00:00",
         "96.85"
        ],
        [
         "2022-11-09 00:00:00",
         "93.05"
        ],
        [
         "2022-11-10 00:00:00",
         "94.25"
        ],
        [
         "2022-11-11 00:00:00",
         "96.37"
        ],
        [
         "2022-11-14 00:00:00",
         "93.59"
        ]
       ],
       "shape": {
        "columns": 1,
        "rows": 5
       }
      },
      "text/plain": [
       "Date\n",
       "2022-11-08    96.85\n",
       "2022-11-09    93.05\n",
       "2022-11-10    94.25\n",
       "2022-11-11    96.37\n",
       "2022-11-14    93.59\n",
       "Name: Price, dtype: float64"
      ]
     },
     "metadata": {},
     "output_type": "display_data"
    },
    {
     "name": "stdout",
     "output_type": "stream",
     "text": [
      "\n",
      "Brent Oil Log Returns Time Series Head:\n"
     ]
    },
    {
     "data": {
      "application/vnd.microsoft.datawrangler.viewer.v0+json": {
       "columns": [
        {
         "name": "Date",
         "rawType": "datetime64[ns]",
         "type": "datetime"
        },
        {
         "name": "Log_Return",
         "rawType": "float64",
         "type": "float"
        }
       ],
       "ref": "24450e02-7dab-4763-aed1-e82469e09912",
       "rows": [
        [
         "1987-05-20 00:00:00",
         null
        ],
        [
         "1987-05-21 00:00:00",
         "-0.009708814126960785"
        ],
        [
         "1987-05-22 00:00:00",
         "0.005405418566907905"
        ],
        [
         "1987-05-25 00:00:00",
         "0.0026917916657116514"
        ],
        [
         "1987-05-26 00:00:00",
         "0.0016116038943412292"
        ]
       ],
       "shape": {
        "columns": 1,
        "rows": 5
       }
      },
      "text/plain": [
       "Date\n",
       "1987-05-20         NaN\n",
       "1987-05-21   -0.009709\n",
       "1987-05-22    0.005405\n",
       "1987-05-25    0.002692\n",
       "1987-05-26    0.001612\n",
       "Name: Log_Return, dtype: float64"
      ]
     },
     "metadata": {},
     "output_type": "display_data"
    },
    {
     "name": "stdout",
     "output_type": "stream",
     "text": [
      "\n",
      "Brent Oil Log Returns Time Series Tail:\n"
     ]
    },
    {
     "data": {
      "application/vnd.microsoft.datawrangler.viewer.v0+json": {
       "columns": [
        {
         "name": "Date",
         "rawType": "datetime64[ns]",
         "type": "datetime"
        },
        {
         "name": "Log_Return",
         "rawType": "float64",
         "type": "float"
        }
       ],
       "ref": "cdc34370-f9ea-48cb-ab9f-f602ec925964",
       "rows": [
        [
         "2022-11-08 00:00:00",
         "-0.030705950402038162"
        ],
        [
         "2022-11-09 00:00:00",
         "-0.04002640676474556"
        ],
        [
         "2022-11-10 00:00:00",
         "0.012813843239860567"
        ],
        [
         "2022-11-11 00:00:00",
         "0.0222441235350761"
        ],
        [
         "2022-11-14 00:00:00",
         "-0.029271409694031192"
        ]
       ],
       "shape": {
        "columns": 1,
        "rows": 5
       }
      },
      "text/plain": [
       "Date\n",
       "2022-11-08   -0.030706\n",
       "2022-11-09   -0.040026\n",
       "2022-11-10    0.012814\n",
       "2022-11-11    0.022244\n",
       "2022-11-14   -0.029271\n",
       "Name: Log_Return, dtype: float64"
      ]
     },
     "metadata": {},
     "output_type": "display_data"
    },
    {
     "name": "stdout",
     "output_type": "stream",
     "text": [
      "Data preprocessing completed.\n"
     ]
    }
   ],
   "source": [
    "# initialize the data preprocessing\n",
    "data_preprocessing = DataPreprocessing(oil_data)\n",
    "# preprocess the data\n",
    "oil_data_processed = data_preprocessing.preprocess()"
   ]
  }
 ],
 "metadata": {
  "kernelspec": {
   "display_name": ".venv",
   "language": "python",
   "name": "python3"
  },
  "language_info": {
   "codemirror_mode": {
    "name": "ipython",
    "version": 3
   },
   "file_extension": ".py",
   "mimetype": "text/x-python",
   "name": "python",
   "nbconvert_exporter": "python",
   "pygments_lexer": "ipython3",
   "version": "3.12.3"
  }
 },
 "nbformat": 4,
 "nbformat_minor": 5
}
